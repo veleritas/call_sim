{
 "cells": [
  {
   "cell_type": "markdown",
   "metadata": {},
   "source": [
    "# Generate individual call events based on call volume TSV\n",
    "\n",
    "Generate a list of individual call times based on call volume. Assumes that calls arrive uniformly over each time interval.\n",
    "\n",
    "Also add how long each calls takes. Call length is sampled from a Gaussian distribution."
   ]
  },
  {
   "cell_type": "code",
   "execution_count": 1,
   "metadata": {},
   "outputs": [],
   "source": [
    "from datetime import date\n",
    "from datetime import datetime\n",
    "from datetime import time\n",
    "from datetime import timedelta\n",
    "\n",
    "import re\n",
    "\n",
    "import pandas as pd\n",
    "import numpy as np"
   ]
  },
  {
   "cell_type": "markdown",
   "metadata": {},
   "source": [
    "## Read table of number of calls received every half hour"
   ]
  },
  {
   "cell_type": "code",
   "execution_count": 2,
   "metadata": {},
   "outputs": [],
   "source": [
    "calls = pd.read_csv(\"data/call_volume.tsv\", sep='\\t')"
   ]
  },
  {
   "cell_type": "code",
   "execution_count": 3,
   "metadata": {},
   "outputs": [
    {
     "data": {
      "text/html": [
       "<div>\n",
       "<style scoped>\n",
       "    .dataframe tbody tr th:only-of-type {\n",
       "        vertical-align: middle;\n",
       "    }\n",
       "\n",
       "    .dataframe tbody tr th {\n",
       "        vertical-align: top;\n",
       "    }\n",
       "\n",
       "    .dataframe thead th {\n",
       "        text-align: right;\n",
       "    }\n",
       "</style>\n",
       "<table border=\"1\" class=\"dataframe\">\n",
       "  <thead>\n",
       "    <tr style=\"text-align: right;\">\n",
       "      <th></th>\n",
       "      <th>start_time</th>\n",
       "      <th>stop_time</th>\n",
       "      <th>num_calls</th>\n",
       "    </tr>\n",
       "  </thead>\n",
       "  <tbody>\n",
       "    <tr>\n",
       "      <th>0</th>\n",
       "      <td>05:00 AM</td>\n",
       "      <td>05:30 AM</td>\n",
       "      <td>14</td>\n",
       "    </tr>\n",
       "    <tr>\n",
       "      <th>1</th>\n",
       "      <td>05:30 AM</td>\n",
       "      <td>06:00 AM</td>\n",
       "      <td>21</td>\n",
       "    </tr>\n",
       "    <tr>\n",
       "      <th>2</th>\n",
       "      <td>06:00 AM</td>\n",
       "      <td>06:30 AM</td>\n",
       "      <td>43</td>\n",
       "    </tr>\n",
       "    <tr>\n",
       "      <th>3</th>\n",
       "      <td>06:30 AM</td>\n",
       "      <td>07:00 AM</td>\n",
       "      <td>57</td>\n",
       "    </tr>\n",
       "    <tr>\n",
       "      <th>4</th>\n",
       "      <td>07:00 AM</td>\n",
       "      <td>07:30 AM</td>\n",
       "      <td>70</td>\n",
       "    </tr>\n",
       "  </tbody>\n",
       "</table>\n",
       "</div>"
      ],
      "text/plain": [
       "  start_time stop_time  num_calls\n",
       "0   05:00 AM  05:30 AM         14\n",
       "1   05:30 AM  06:00 AM         21\n",
       "2   06:00 AM  06:30 AM         43\n",
       "3   06:30 AM  07:00 AM         57\n",
       "4   07:00 AM  07:30 AM         70"
      ]
     },
     "execution_count": 3,
     "metadata": {},
     "output_type": "execute_result"
    }
   ],
   "source": [
    "calls.head()"
   ]
  },
  {
   "cell_type": "code",
   "execution_count": 4,
   "metadata": {},
   "outputs": [
    {
     "data": {
      "text/plain": [
       "2350"
      ]
     },
     "execution_count": 4,
     "metadata": {},
     "output_type": "execute_result"
    }
   ],
   "source": [
    "calls[\"num_calls\"].sum()"
   ]
  },
  {
   "cell_type": "markdown",
   "metadata": {},
   "source": [
    "---"
   ]
  },
  {
   "cell_type": "markdown",
   "metadata": {},
   "source": [
    "## Generate individual call events\n",
    "\n",
    "Assumes call arrive uniformly over each half hour. Generate how long a particular call will take from the normal distribution."
   ]
  },
  {
   "cell_type": "code",
   "execution_count": 5,
   "metadata": {},
   "outputs": [],
   "source": [
    "def create_time(time_string):\n",
    "    # Create a time object from a string\n",
    "    # Expect the format: ##:## AM/PM\n",
    "    # returns datetime.time object\n",
    "    \n",
    "    res = re.match(r'^\\d\\d:\\d\\d [AP]M$', time_string)\n",
    "    assert res is not None, \"Time string has incorrect format\"\n",
    "    \n",
    "    nums, period = time_string.split(\" \")\n",
    "    hour, minute = map(int, nums.split(\":\"))\n",
    "    \n",
    "    hour += 12 if period == \"PM\" and hour < 12 else 0\n",
    "    \n",
    "    return time(hour=hour, minute=minute)"
   ]
  },
  {
   "cell_type": "code",
   "execution_count": 6,
   "metadata": {},
   "outputs": [],
   "source": [
    "def generate_individual_calls(start, stop, num):\n",
    "    \"\"\"Generate a list of uniformly spaced time objects.\n",
    "    \n",
    "    Starts at start time, ends before stop time. All times\n",
    "    with microseconds are truncated to the floor of the second.\n",
    "    \"\"\"\n",
    "    \n",
    "    assert isinstance(start, time), \"Start time needs to be a time object\"\n",
    "    assert isinstance(stop, time), \"Stop time needs to be a time object\"\n",
    "    \n",
    "    duration = datetime.combine(date.min, stop) - datetime.combine(date.min, start)\n",
    "    gap = duration / num\n",
    "    \n",
    "    res = []\n",
    "    for i in range(num):\n",
    "        call_time = datetime.combine(date.min, start) + gap*i\n",
    "        \n",
    "        # get at time object, then round to the nearest second\n",
    "        rounded_time = call_time.time().replace(microsecond=0)\n",
    "        \n",
    "        res.append(rounded_time)\n",
    "        \n",
    "    return res"
   ]
  },
  {
   "cell_type": "code",
   "execution_count": 7,
   "metadata": {},
   "outputs": [],
   "source": [
    "all_calls = []\n",
    "\n",
    "for row in calls.itertuples():\n",
    "    start_time = create_time(row.start_time)\n",
    "    stop_time = create_time(row.stop_time)\n",
    "    \n",
    "    call_times = generate_individual_calls(start_time, stop_time, row.num_calls)\n",
    "    \n",
    "    all_calls += call_times"
   ]
  },
  {
   "cell_type": "markdown",
   "metadata": {},
   "source": [
    "### Generate call durations"
   ]
  },
  {
   "cell_type": "code",
   "execution_count": 8,
   "metadata": {},
   "outputs": [],
   "source": [
    "# average call time: 4 min 30 s\n",
    "avg_call_time = 270\n",
    "sigma_secs = 30\n",
    "\n",
    "call_lengths = (np\n",
    "    .random.normal(\n",
    "        loc=avg_call_time, scale=sigma_secs,\n",
    "        size=len(all_calls)\n",
    "    )\n",
    "    .round()\n",
    "    .astype(int)\n",
    ")\n",
    "\n",
    "call_lengths = [\n",
    "    timedelta(seconds=int(v))\n",
    "    for v in call_lengths\n",
    "]"
   ]
  },
  {
   "cell_type": "markdown",
   "metadata": {},
   "source": [
    "## Save call events to file"
   ]
  },
  {
   "cell_type": "code",
   "execution_count": 9,
   "metadata": {},
   "outputs": [],
   "source": [
    "fname = \"data/call_times_uniform_normal.txt\"\n",
    "with open(fname, \"w\") as fout:\n",
    "    for call_intime, duration in zip(all_calls, call_lengths):\n",
    "        fout.write(\"{}\\t{}\\n\".format(\n",
    "            call_intime.isoformat(),\n",
    "            duration\n",
    "        ))"
   ]
  }
 ],
 "metadata": {
  "kernelspec": {
   "display_name": "Python 3",
   "language": "python",
   "name": "python3"
  },
  "language_info": {
   "codemirror_mode": {
    "name": "ipython",
    "version": 3
   },
   "file_extension": ".py",
   "mimetype": "text/x-python",
   "name": "python",
   "nbconvert_exporter": "python",
   "pygments_lexer": "ipython3",
   "version": "3.6.6"
  }
 },
 "nbformat": 4,
 "nbformat_minor": 2
}
