{
 "cells": [
  {
   "cell_type": "markdown",
   "metadata": {},
   "source": [
    "# Simulate workers at a call center processing calls\n",
    "\n",
    "Current constraints:\n",
    "1. One shift of workers\n",
    "2. Every call takes the same amount of time\n",
    "3. Workers do not take breaks\n",
    "4. Callers never hang up\n",
    "\n",
    "Free parameters:\n",
    "1. Number of workers\n",
    "\n",
    "Goal:\n",
    "- Determine which calls were processed successfully and which were missed"
   ]
  },
  {
   "cell_type": "code",
   "execution_count": 1,
   "metadata": {},
   "outputs": [],
   "source": [
    "from queue import Queue\n",
    "from queue import LifoQueue\n",
    "from queue import PriorityQueue\n",
    "from collections import deque\n",
    "\n",
    "from datetime import datetime\n",
    "from datetime import date\n",
    "from datetime import time\n",
    "from datetime import timedelta"
   ]
  },
  {
   "cell_type": "markdown",
   "metadata": {},
   "source": [
    "## Read all individual call events"
   ]
  },
  {
   "cell_type": "code",
   "execution_count": 2,
   "metadata": {},
   "outputs": [],
   "source": [
    "def read_calls(fname):\n",
    "    calls = []\n",
    "    with open(fname, \"r\") as fin:\n",
    "        for line in fin:\n",
    "            line = line.rstrip(\"\\n\")\n",
    "            \n",
    "            # use time.fromisoformat() in future (python 3.7+)\n",
    "            hour, minute, second = map(int, line.split(\":\"))\n",
    "            calls.append(time(hour=hour, minute=minute, second=second))\n",
    "            \n",
    "    return calls"
   ]
  },
  {
   "cell_type": "markdown",
   "metadata": {},
   "source": [
    "### Generate call stack"
   ]
  },
  {
   "cell_type": "code",
   "execution_count": 3,
   "metadata": {},
   "outputs": [],
   "source": [
    "def get_call_stack(fname):\n",
    "    calls = read_calls(fname)\n",
    "    \n",
    "    call_stack = LifoQueue()\n",
    "    for call in reversed(calls):\n",
    "        call_stack.put(call)\n",
    "        \n",
    "    return call_stack"
   ]
  },
  {
   "cell_type": "markdown",
   "metadata": {},
   "source": [
    "## Main loop of time"
   ]
  },
  {
   "cell_type": "markdown",
   "metadata": {},
   "source": [
    "so priority queue also sorts by secondary item in addition to the priority\n",
    "times are sorted in increasing time"
   ]
  },
  {
   "cell_type": "code",
   "execution_count": 4,
   "metadata": {},
   "outputs": [],
   "source": [
    "# define constants\n",
    "\n",
    "TIME_RESOLUTION = timedelta(seconds=1)\n",
    "\n",
    "# how long every caller spends talking to an agent\n",
    "# becomes a free parameter later on\n",
    "TALK_TIME = timedelta(minutes=10)\n",
    "\n",
    "# when the workers start and stop working\n",
    "START_TIME = time(hour=5, minute=0)\n",
    "END_TIME = time(hour=22, minute=30)\n",
    "\n",
    "#--------------------------------------------------------------------------\n",
    "\n",
    "# define free parameters (later inputs to our function)\n",
    "\n",
    "num_workers = 10\n",
    "\n",
    "#--------------------------------------------------------------------------\n",
    "\n",
    "\n",
    "cur_time = datetime.combine(date.min, START_TIME)\n",
    "stop_time = datetime.combine(date.min, END_TIME)\n",
    "\n",
    "\n",
    "call_times_fname = \"data/call_times_uniform.txt\"\n",
    "call_stack = get_call_stack(call_times_fname)\n",
    "\n",
    "hold_line = Queue() # callers who are on hold because all agents are busy\n",
    "\n",
    "# list of agents who are not currently busy with callers\n",
    "free_workers = deque(i for i in range(num_workers))\n",
    "\n",
    "# priority queue of when the calls finish with the worker number\n",
    "work_line = PriorityQueue()\n",
    "\n",
    "successful_calls = 0\n",
    "\n",
    "while cur_time < stop_time:\n",
    "\n",
    "    # add new callers to wait queue\n",
    "    while not call_stack.empty():\n",
    "        new_call = call_stack.get()\n",
    "\n",
    "        new_call_datetime = datetime.combine(date.min, new_call)\n",
    "\n",
    "        if cur_time == new_call_datetime:\n",
    "            hold_line.put(new_call)\n",
    "        else:\n",
    "            assert cur_time < new_call_datetime\n",
    "\n",
    "            call_stack.put(new_call)\n",
    "            break\n",
    "\n",
    "\n",
    "    # free up any workers who are done\n",
    "    while not work_line.empty():\n",
    "        earliest, worker_id = work_line.get()\n",
    "\n",
    "        if cur_time < earliest:\n",
    "            work_line.put((earliest, worker_id))\n",
    "            break\n",
    "        else:\n",
    "            assert cur_time == earliest\n",
    "\n",
    "            successful_calls += 1\n",
    "            free_workers.append(worker_id)\n",
    "\n",
    "\n",
    "    # assign free workers to new callers\n",
    "    while free_workers and not hold_line.empty():\n",
    "        worker_id = free_workers.popleft()\n",
    "        caller_time = hold_line.get()\n",
    "\n",
    "        # check to see if caller should hang up in future\n",
    "        finish_datetime = cur_time + TALK_TIME\n",
    "\n",
    "        work_line.put((finish_datetime, worker_id))\n",
    "\n",
    "\n",
    "    cur_time += TIME_RESOLUTION    "
   ]
  },
  {
   "cell_type": "code",
   "execution_count": 5,
   "metadata": {},
   "outputs": [
    {
     "data": {
      "text/plain": [
       "1015"
      ]
     },
     "execution_count": 5,
     "metadata": {},
     "output_type": "execute_result"
    }
   ],
   "source": [
    "successful_calls"
   ]
  }
 ],
 "metadata": {
  "kernelspec": {
   "display_name": "Python 3",
   "language": "python",
   "name": "python3"
  },
  "language_info": {
   "codemirror_mode": {
    "name": "ipython",
    "version": 3
   },
   "file_extension": ".py",
   "mimetype": "text/x-python",
   "name": "python",
   "nbconvert_exporter": "python",
   "pygments_lexer": "ipython3",
   "version": "3.6.6"
  }
 },
 "nbformat": 4,
 "nbformat_minor": 2
}
