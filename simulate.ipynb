{
 "cells": [
  {
   "cell_type": "markdown",
   "metadata": {},
   "source": [
    "# Simulate workers at a call center processing calls\n",
    "\n",
    "Current constraints:\n",
    "1. One shift of workers\n",
    "2. Workers do not take breaks\n",
    "3. All callers hang up after the same amount of time\n",
    "\n",
    "Free parameters:\n",
    "1. Number of workers\n",
    "2. How long callers will hold for before hanging up\n",
    "3. Distribution of how long calls take\n",
    "\n",
    "Goal:\n",
    "- Determine which calls were processed successfully and which were missed"
   ]
  },
  {
   "cell_type": "code",
   "execution_count": 1,
   "metadata": {},
   "outputs": [],
   "source": [
    "from collections import defaultdict\n",
    "\n",
    "from datetime import date\n",
    "from datetime import datetime\n",
    "from datetime import time\n",
    "from datetime import timedelta\n",
    "\n",
    "from itertools import product\n",
    "\n",
    "from queue import Queue\n",
    "from queue import LifoQueue\n",
    "from queue import PriorityQueue\n",
    "\n",
    "\n",
    "from tqdm import tqdm\n",
    "import pandas as pd\n",
    "import seaborn as sns\n",
    "import matplotlib.pyplot as plt\n",
    "\n",
    "%matplotlib inline"
   ]
  },
  {
   "cell_type": "markdown",
   "metadata": {},
   "source": [
    "## Read all individual call events"
   ]
  },
  {
   "cell_type": "code",
   "execution_count": 2,
   "metadata": {},
   "outputs": [],
   "source": [
    "def read_calls(fname):\n",
    "    \n",
    "    def splitter(time_string):\n",
    "        return map(int, time_string.split(\":\"))\n",
    "    \n",
    "    calls = []\n",
    "    with open(fname, \"r\") as fin:\n",
    "        for line in fin:\n",
    "            call_intime, duration = line.rstrip(\"\\n\").split(\"\\t\")\n",
    "            \n",
    "            h, m, s = splitter(call_intime)\n",
    "            call_intime = time(hour=h, minute=m, second=s)\n",
    "            \n",
    "            h, m, s = splitter(duration)\n",
    "            duration = timedelta(hours=h, minutes=m, seconds=s)\n",
    "            \n",
    "            calls.append((call_intime, duration))\n",
    "            \n",
    "    return calls"
   ]
  },
  {
   "cell_type": "markdown",
   "metadata": {},
   "source": [
    "### Generate call stack"
   ]
  },
  {
   "cell_type": "code",
   "execution_count": 3,
   "metadata": {},
   "outputs": [],
   "source": [
    "def get_call_stack(call_list):\n",
    "    call_stack = LifoQueue()\n",
    "    for call in reversed(call_list):\n",
    "        call_stack.put(call)\n",
    "        \n",
    "    return call_stack"
   ]
  },
  {
   "cell_type": "markdown",
   "metadata": {},
   "source": [
    "## Perform simulation with the given constraints"
   ]
  },
  {
   "cell_type": "code",
   "execution_count": 4,
   "metadata": {},
   "outputs": [],
   "source": [
    "def simulate(num_workers, hold_time, call_stack):\n",
    "    \"\"\"Simulate a call center.\n",
    "    \n",
    "    Constraints:\n",
    "        - one shift of workers\n",
    "        - workers do not take breaks\n",
    "\n",
    "    Arguments:\n",
    "        - num_workers: how many call center workers\n",
    "        - hold_time: how long will hold before hanging up\n",
    "        - call_stack:\n",
    "            sorted stack of call times rounded to the nearest second\n",
    "            and call durations rounded to nearest second\n",
    "\n",
    "    Returns:\n",
    "        - number of successfully processed calls\n",
    "        - list of missed calls\n",
    "    \"\"\"\n",
    "\n",
    "    assert num_workers > 0, \"Must have at least one worker\"    \n",
    "    assert isinstance(hold_time, timedelta)\n",
    "    assert isinstance(call_stack, LifoQueue)\n",
    "\n",
    "\n",
    "    TIME_RESOLUTION = timedelta(seconds=1)\n",
    "\n",
    "    # when the workers start and stop working\n",
    "    START_TIME = time(hour=5, minute=0)\n",
    "    END_TIME = time(hour=22, minute=30)\n",
    "\n",
    "    #--------------------------------------------------------------------------\n",
    "\n",
    "    cur_time = datetime.combine(date.min, START_TIME)\n",
    "    stop_time = datetime.combine(date.min, END_TIME)\n",
    "\n",
    "\n",
    "    hold_line = Queue() # callers who are on hold because all agents are busy\n",
    "\n",
    "    # agents who are not currently busy with callers\n",
    "    free_workers = Queue()\n",
    "    for i in range(num_workers):\n",
    "        free_workers.put(i)\n",
    "\n",
    "    # when workers finish processing a call, when the call came in, and the worker id\n",
    "    work_line = PriorityQueue()\n",
    "\n",
    "    \n",
    "    num_successful_calls = 0\n",
    "    missed_calls = []\n",
    "\n",
    "    while cur_time < stop_time:\n",
    "\n",
    "        # add new callers to wait queue\n",
    "        while not call_stack.empty():\n",
    "            \n",
    "            call_intime, duration = call_stack.get()\n",
    "\n",
    "            new_call_datetime = datetime.combine(date.min, call_intime)\n",
    "\n",
    "            if cur_time == new_call_datetime:\n",
    "                hold_line.put((call_intime, duration))\n",
    "            else:\n",
    "                assert cur_time < new_call_datetime\n",
    "\n",
    "                call_stack.put((call_intime, duration))\n",
    "                break\n",
    "\n",
    "\n",
    "        # free up any workers who are done\n",
    "        while not work_line.empty():\n",
    "            work_endtime, call_intime, worker_id = work_line.get()\n",
    "            \n",
    "            if cur_time < work_endtime:\n",
    "                work_line.put((work_endtime, call_intime, worker_id))\n",
    "                break\n",
    "            else:\n",
    "                assert cur_time == work_endtime\n",
    "\n",
    "                num_successful_calls += 1\n",
    "                free_workers.put(worker_id)\n",
    "\n",
    "\n",
    "        # assign free workers to new callers\n",
    "        while not free_workers.empty() and not hold_line.empty():\n",
    "            worker_id = free_workers.get()\n",
    "            \n",
    "            call_intime, duration = hold_line.get()\n",
    "\n",
    "            if datetime.combine(date.min, call_intime) + hold_time < cur_time:\n",
    "                # caller hung up before we could process them\n",
    "                free_workers.put(worker_id) # workers get cycled, which is not a perfect simulation\n",
    "                missed_calls.append(call_intime)\n",
    "            else:\n",
    "                finish_datetime = cur_time + duration\n",
    "\n",
    "                work_line.put((finish_datetime, call_intime, worker_id))\n",
    "\n",
    "\n",
    "        cur_time += TIME_RESOLUTION    \n",
    "\n",
    "    #---------------------------------------------------------------\n",
    "        \n",
    "    assert call_stack.qsize() == 0\n",
    "    \n",
    "    while not hold_line.empty():\n",
    "        call_intime, duration = hold_line.get()\n",
    "        missed_calls.append(call_intime)\n",
    "        \n",
    "    while not work_line.empty():\n",
    "        work_etime, call_intime, worker_id = work_line.get()\n",
    "        missed_calls.append(call_intime)\n",
    "        \n",
    "    return (num_successful_calls, sorted(missed_calls))"
   ]
  },
  {
   "cell_type": "markdown",
   "metadata": {},
   "source": [
    "---"
   ]
  },
  {
   "cell_type": "code",
   "execution_count": 5,
   "metadata": {},
   "outputs": [],
   "source": [
    "def call_loss_summary(missed_calls):\n",
    "    \"\"\"Summarize when we missed calls based on a list\n",
    "    of times of when the calls arrived.\"\"\"\n",
    "\n",
    "    intimes = (\n",
    "        datetime.combine(date.today(), intime)\n",
    "        for intime in missed_calls\n",
    "    )\n",
    "    \n",
    "    failed = (pd\n",
    "        .DataFrame(intimes, columns=[\"call_intime\"])\n",
    "        .assign(num_missed = 1)\n",
    "    )\n",
    "    \n",
    "    return (failed\n",
    "        .groupby(pd.Grouper(key=\"call_intime\", freq=\"30T\"))\n",
    "        .sum()\n",
    "    )"
   ]
  },
  {
   "cell_type": "code",
   "execution_count": 6,
   "metadata": {},
   "outputs": [],
   "source": [
    "def final_summary(call_volume_fname, missed_calls):\n",
    "    assert isinstance(missed_calls, pd.DataFrame)\n",
    "\n",
    "    call_vol = pd.read_csv(call_volume_fname, sep='\\t')\n",
    "    \n",
    "    call_vol = call_vol.assign(\n",
    "        call_intime = pd.to_datetime(call_vol[\"start_time\"])\n",
    "    )\n",
    "    \n",
    "    return (call_vol\n",
    "        .merge(\n",
    "            missed_calls.reset_index(),\n",
    "            how=\"left\", on=\"call_intime\"\n",
    "        )\n",
    "        .drop(\"call_intime\", axis=1)\n",
    "        .fillna(0)\n",
    "        .assign(num_missed = lambda df: df[\"num_missed\"].astype(int))\n",
    "    )"
   ]
  },
  {
   "cell_type": "markdown",
   "metadata": {},
   "source": [
    "---"
   ]
  },
  {
   "cell_type": "markdown",
   "metadata": {},
   "source": [
    "## Examine performance for different number of workers"
   ]
  },
  {
   "cell_type": "code",
   "execution_count": 7,
   "metadata": {},
   "outputs": [
    {
     "name": "stderr",
     "output_type": "stream",
     "text": [
      "100%|██████████| 3/3 [00:58<00:00, 19.71s/it]\n"
     ]
    }
   ],
   "source": [
    "# go until all done or some max number (to prevent infinite loops)\n",
    "\n",
    "MAX_WORKERS = 40\n",
    "\n",
    "call_times_fname = \"data/call_times_uniform_normal.txt\"\n",
    "call_list = read_calls(call_times_fname)\n",
    "\n",
    "TOTAL_CALLS = len(call_list)\n",
    "\n",
    "res = defaultdict(list)\n",
    "\n",
    "for hold_time in tqdm([10, 20, 30]):\n",
    "\n",
    "    for num_workers in range(1, MAX_WORKERS+1):\n",
    "        # need a new stack each time because it gets modified\n",
    "        call_stack = get_call_stack(call_list)\n",
    "\n",
    "        num_successful, failed = simulate(\n",
    "            num_workers, timedelta(seconds=hold_time), call_stack\n",
    "        )\n",
    "\n",
    "        res[\"hold_time_secs\"].append(hold_time)\n",
    "        res[\"num_workers\"].append(num_workers)\n",
    "        res[\"num_successful\"].append(num_successful)\n",
    "\n",
    "        if num_successful == TOTAL_CALLS:\n",
    "            break\n",
    "\n",
    "res = pd.DataFrame(res)"
   ]
  },
  {
   "cell_type": "markdown",
   "metadata": {},
   "source": [
    "---"
   ]
  },
  {
   "cell_type": "markdown",
   "metadata": {},
   "source": [
    "## Simulation results"
   ]
  },
  {
   "cell_type": "code",
   "execution_count": 8,
   "metadata": {},
   "outputs": [
    {
     "data": {
      "text/html": [
       "<div>\n",
       "<style scoped>\n",
       "    .dataframe tbody tr th:only-of-type {\n",
       "        vertical-align: middle;\n",
       "    }\n",
       "\n",
       "    .dataframe tbody tr th {\n",
       "        vertical-align: top;\n",
       "    }\n",
       "\n",
       "    .dataframe thead th {\n",
       "        text-align: right;\n",
       "    }\n",
       "</style>\n",
       "<table border=\"1\" class=\"dataframe\">\n",
       "  <thead>\n",
       "    <tr style=\"text-align: right;\">\n",
       "      <th></th>\n",
       "      <th>hold_time_secs</th>\n",
       "      <th>num_workers</th>\n",
       "      <th>num_successful</th>\n",
       "    </tr>\n",
       "  </thead>\n",
       "  <tbody>\n",
       "    <tr>\n",
       "      <th>0</th>\n",
       "      <td>10</td>\n",
       "      <td>1</td>\n",
       "      <td>211</td>\n",
       "    </tr>\n",
       "    <tr>\n",
       "      <th>1</th>\n",
       "      <td>10</td>\n",
       "      <td>2</td>\n",
       "      <td>408</td>\n",
       "    </tr>\n",
       "    <tr>\n",
       "      <th>2</th>\n",
       "      <td>10</td>\n",
       "      <td>3</td>\n",
       "      <td>592</td>\n",
       "    </tr>\n",
       "    <tr>\n",
       "      <th>3</th>\n",
       "      <td>10</td>\n",
       "      <td>4</td>\n",
       "      <td>762</td>\n",
       "    </tr>\n",
       "    <tr>\n",
       "      <th>4</th>\n",
       "      <td>10</td>\n",
       "      <td>5</td>\n",
       "      <td>922</td>\n",
       "    </tr>\n",
       "  </tbody>\n",
       "</table>\n",
       "</div>"
      ],
      "text/plain": [
       "   hold_time_secs  num_workers  num_successful\n",
       "0              10            1             211\n",
       "1              10            2             408\n",
       "2              10            3             592\n",
       "3              10            4             762\n",
       "4              10            5             922"
      ]
     },
     "execution_count": 8,
     "metadata": {},
     "output_type": "execute_result"
    }
   ],
   "source": [
    "res.head()"
   ]
  },
  {
   "cell_type": "code",
   "execution_count": 9,
   "metadata": {},
   "outputs": [
    {
     "data": {
      "text/plain": [
       "(58, 3)"
      ]
     },
     "execution_count": 9,
     "metadata": {},
     "output_type": "execute_result"
    }
   ],
   "source": [
    "res.shape"
   ]
  },
  {
   "cell_type": "markdown",
   "metadata": {},
   "source": [
    "---"
   ]
  },
  {
   "cell_type": "code",
   "execution_count": 10,
   "metadata": {},
   "outputs": [
    {
     "data": {
      "text/plain": [
       "2350"
      ]
     },
     "execution_count": 10,
     "metadata": {},
     "output_type": "execute_result"
    }
   ],
   "source": [
    "TOTAL_CALLS"
   ]
  },
  {
   "cell_type": "code",
   "execution_count": 11,
   "metadata": {},
   "outputs": [],
   "source": [
    "fres = res.assign(\n",
    "    pct_success = lambda df: df[\"num_successful\"].divide(TOTAL_CALLS).multiply(100)\n",
    ")"
   ]
  },
  {
   "cell_type": "code",
   "execution_count": 12,
   "metadata": {},
   "outputs": [
    {
     "data": {
      "text/html": [
       "<div>\n",
       "<style scoped>\n",
       "    .dataframe tbody tr th:only-of-type {\n",
       "        vertical-align: middle;\n",
       "    }\n",
       "\n",
       "    .dataframe tbody tr th {\n",
       "        vertical-align: top;\n",
       "    }\n",
       "\n",
       "    .dataframe thead th {\n",
       "        text-align: right;\n",
       "    }\n",
       "</style>\n",
       "<table border=\"1\" class=\"dataframe\">\n",
       "  <thead>\n",
       "    <tr style=\"text-align: right;\">\n",
       "      <th></th>\n",
       "      <th>hold_time_secs</th>\n",
       "      <th>num_workers</th>\n",
       "      <th>num_successful</th>\n",
       "      <th>pct_success</th>\n",
       "    </tr>\n",
       "  </thead>\n",
       "  <tbody>\n",
       "    <tr>\n",
       "      <th>0</th>\n",
       "      <td>10</td>\n",
       "      <td>1</td>\n",
       "      <td>211</td>\n",
       "      <td>8.978723</td>\n",
       "    </tr>\n",
       "    <tr>\n",
       "      <th>1</th>\n",
       "      <td>10</td>\n",
       "      <td>2</td>\n",
       "      <td>408</td>\n",
       "      <td>17.361702</td>\n",
       "    </tr>\n",
       "    <tr>\n",
       "      <th>2</th>\n",
       "      <td>10</td>\n",
       "      <td>3</td>\n",
       "      <td>592</td>\n",
       "      <td>25.191489</td>\n",
       "    </tr>\n",
       "    <tr>\n",
       "      <th>3</th>\n",
       "      <td>10</td>\n",
       "      <td>4</td>\n",
       "      <td>762</td>\n",
       "      <td>32.425532</td>\n",
       "    </tr>\n",
       "    <tr>\n",
       "      <th>4</th>\n",
       "      <td>10</td>\n",
       "      <td>5</td>\n",
       "      <td>922</td>\n",
       "      <td>39.234043</td>\n",
       "    </tr>\n",
       "  </tbody>\n",
       "</table>\n",
       "</div>"
      ],
      "text/plain": [
       "   hold_time_secs  num_workers  num_successful  pct_success\n",
       "0              10            1             211     8.978723\n",
       "1              10            2             408    17.361702\n",
       "2              10            3             592    25.191489\n",
       "3              10            4             762    32.425532\n",
       "4              10            5             922    39.234043"
      ]
     },
     "execution_count": 12,
     "metadata": {},
     "output_type": "execute_result"
    }
   ],
   "source": [
    "fres.head()"
   ]
  },
  {
   "cell_type": "markdown",
   "metadata": {},
   "source": [
    "---"
   ]
  },
  {
   "cell_type": "code",
   "execution_count": 13,
   "metadata": {},
   "outputs": [
    {
     "data": {
      "image/png": "[encoded data removed]",
      "text/plain": [
       "<Figure size 1152x648 with 1 Axes>"
      ]
     },
     "metadata": {},
     "output_type": "display_data"
    }
   ],
   "source": [
    "sns.set_style(\"whitegrid\")\n",
    "plt.figure(figsize=(16, 9), facecolor=\"white\")\n",
    "\n",
    "ax = sns.lineplot(\n",
    "    data=fres, x=\"num_workers\", y=\"pct_success\",\n",
    "    hue=\"hold_time_secs\", markers=True,\n",
    "    style=\"hold_time_secs\", dashes=False\n",
    ")\n",
    "\n",
    "ax.set_xlabel(\"Number of call center workers\")\n",
    "ax.set_ylabel(\"Percentage of calls successfully processed\")\n",
    "\n",
    "ax.set_title(\"Service rate vs worker number for three hold times\".format(hold_time));"
   ]
  }
 ],
 "metadata": {
  "kernelspec": {
   "display_name": "Python 3",
   "language": "python",
   "name": "python3"
  },
  "language_info": {
   "codemirror_mode": {
    "name": "ipython",
    "version": 3
   },
   "file_extension": ".py",
   "mimetype": "text/x-python",
   "name": "python",
   "nbconvert_exporter": "python",
   "pygments_lexer": "ipython3",
   "version": "3.6.6"
  }
 },
 "nbformat": 4,
 "nbformat_minor": 2
}
