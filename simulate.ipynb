{
 "cells": [
  {
   "cell_type": "markdown",
   "metadata": {},
   "source": [
    "# Simulate workers at a call center processing calls\n",
    "\n",
    "Current constraints:\n",
    "1. One shift of workers\n",
    "2. Every call takes the same amount of time\n",
    "3. Workers do not take breaks\n",
    "4. Callers never hang up\n",
    "\n",
    "Free parameters:\n",
    "1. Number of workers\n",
    "\n",
    "Goal:\n",
    "- Determine which calls were processed successfully and which were missed"
   ]
  },
  {
   "cell_type": "code",
   "execution_count": 1,
   "metadata": {},
   "outputs": [],
   "source": [
    "from queue import Queue\n",
    "from queue import LifoQueue\n",
    "from queue import PriorityQueue\n",
    "from collections import deque\n",
    "\n",
    "from datetime import datetime\n",
    "from datetime import date\n",
    "from datetime import time\n",
    "from datetime import timedelta\n",
    "\n",
    "from tqdm import tqdm\n",
    "import pandas as pd\n",
    "\n",
    "from collections import defaultdict\n",
    "import seaborn as sns\n",
    "\n",
    "%matplotlib inline"
   ]
  },
  {
   "cell_type": "markdown",
   "metadata": {},
   "source": [
    "## Read all individual call events"
   ]
  },
  {
   "cell_type": "code",
   "execution_count": 2,
   "metadata": {},
   "outputs": [],
   "source": [
    "def read_calls(fname):\n",
    "    calls = []\n",
    "    with open(fname, \"r\") as fin:\n",
    "        for line in fin:\n",
    "            line = line.rstrip(\"\\n\")\n",
    "            \n",
    "            # use time.fromisoformat() in future (python 3.7+)\n",
    "            hour, minute, second = map(int, line.split(\":\"))\n",
    "            calls.append(time(hour=hour, minute=minute, second=second))\n",
    "            \n",
    "    return calls"
   ]
  },
  {
   "cell_type": "markdown",
   "metadata": {},
   "source": [
    "### Generate call stack"
   ]
  },
  {
   "cell_type": "code",
   "execution_count": 3,
   "metadata": {},
   "outputs": [],
   "source": [
    "def get_call_stack(call_list):\n",
    "    call_stack = LifoQueue()\n",
    "    for call in reversed(call_list):\n",
    "        call_stack.put(call)\n",
    "        \n",
    "    return call_stack"
   ]
  },
  {
   "cell_type": "markdown",
   "metadata": {},
   "source": [
    "## Perform simulation with the given constraints"
   ]
  },
  {
   "cell_type": "code",
   "execution_count": 4,
   "metadata": {},
   "outputs": [],
   "source": [
    "def simulate(num_workers, call_stack):\n",
    "    \"\"\"Simulate a call center.\n",
    "    \n",
    "    Constraints:\n",
    "        - one shift of workers\n",
    "        - every call takes the same amount of time\n",
    "        - workers do not take breaks\n",
    "        - callers never hang up\n",
    "\n",
    "    Free parameters:\n",
    "        - number of workers\n",
    "\n",
    "    Input:\n",
    "        - sorted stack of call times rounded to the nearest second\n",
    "\n",
    "    Goal:\n",
    "        Determine which calls were processed successfully and which were missed\n",
    "\n",
    "    Returns:\n",
    "        Number of successfully processed calls\n",
    "    \"\"\"\n",
    "\n",
    "    # constants\n",
    "    TIME_RESOLUTION = timedelta(seconds=1)\n",
    "\n",
    "    # how long every caller spends talking to an agent\n",
    "    # becomes a free parameter later on\n",
    "    TALK_TIME = timedelta(minutes=10)\n",
    "\n",
    "    # when the workers start and stop working\n",
    "    START_TIME = time(hour=5, minute=0)\n",
    "    END_TIME = time(hour=22, minute=30)\n",
    "\n",
    "    #--------------------------------------------------------------------------\n",
    "\n",
    "    cur_time = datetime.combine(date.min, START_TIME)\n",
    "    stop_time = datetime.combine(date.min, END_TIME)\n",
    "\n",
    "\n",
    "    hold_line = Queue() # callers who are on hold because all agents are busy\n",
    "\n",
    "    # agents who are not currently busy with callers\n",
    "    free_workers = deque(i for i in range(num_workers))\n",
    "\n",
    "    # when workers finish processing calls and worker id\n",
    "    work_line = PriorityQueue()\n",
    "\n",
    "    \n",
    "    num_successful_calls = 0\n",
    "\n",
    "    while cur_time < stop_time:\n",
    "\n",
    "        # add new callers to wait queue\n",
    "        while not call_stack.empty():\n",
    "            new_call = call_stack.get()\n",
    "\n",
    "            new_call_datetime = datetime.combine(date.min, new_call)\n",
    "\n",
    "            if cur_time == new_call_datetime:\n",
    "                hold_line.put(new_call)\n",
    "            else:\n",
    "                assert cur_time < new_call_datetime\n",
    "\n",
    "                call_stack.put(new_call)\n",
    "                break\n",
    "\n",
    "\n",
    "        # free up any workers who are done\n",
    "        while not work_line.empty():\n",
    "            earliest, worker_id = work_line.get()\n",
    "\n",
    "            if cur_time < earliest:\n",
    "                work_line.put((earliest, worker_id))\n",
    "                break\n",
    "            else:\n",
    "                assert cur_time == earliest\n",
    "\n",
    "                num_successful_calls += 1\n",
    "                free_workers.append(worker_id)\n",
    "\n",
    "\n",
    "        # assign free workers to new callers\n",
    "        while free_workers and not hold_line.empty():\n",
    "            worker_id = free_workers.popleft()\n",
    "            caller_time = hold_line.get()\n",
    "\n",
    "            # check to see if caller should hang up in future\n",
    "            finish_datetime = cur_time + TALK_TIME\n",
    "\n",
    "            work_line.put((finish_datetime, worker_id))\n",
    "\n",
    "\n",
    "        cur_time += TIME_RESOLUTION    \n",
    "\n",
    "    return num_successful_calls"
   ]
  },
  {
   "cell_type": "markdown",
   "metadata": {},
   "source": [
    "## Examine performance for different number of workers"
   ]
  },
  {
   "cell_type": "code",
   "execution_count": 5,
   "metadata": {},
   "outputs": [
    {
     "name": "stderr",
     "output_type": "stream",
     "text": [
      " 50%|█████     | 25/50 [00:20<00:19,  1.27it/s]"
     ]
    }
   ],
   "source": [
    "# go until all done or some max number (to prevent infinite loops)\n",
    "\n",
    "MAX_WORKERS = 50\n",
    "\n",
    "call_times_fname = \"data/call_times_uniform.txt\"\n",
    "call_list = read_calls(call_times_fname)\n",
    "\n",
    "TOTAL_CALLS = len(call_list)\n",
    "\n",
    "res = defaultdict(list)\n",
    "\n",
    "for num_workers in tqdm(range(MAX_WORKERS)):\n",
    "    # need a new stack each time because it gets modified\n",
    "    call_stack = get_call_stack(call_list)\n",
    "    \n",
    "    num_successful = simulate(num_workers, call_stack)\n",
    "    \n",
    "    res[\"num_workers\"].append(num_workers)\n",
    "    res[\"num_successful\"].append(num_successful)\n",
    "    \n",
    "    if num_successful == TOTAL_CALLS:\n",
    "        break\n",
    "    \n",
    "res = pd.DataFrame(res)"
   ]
  },
  {
   "cell_type": "markdown",
   "metadata": {},
   "source": [
    "---"
   ]
  },
  {
   "cell_type": "markdown",
   "metadata": {},
   "source": [
    "## Simulation results"
   ]
  },
  {
   "cell_type": "code",
   "execution_count": 6,
   "metadata": {},
   "outputs": [
    {
     "data": {
      "text/html": [
       "<div>\n",
       "<style scoped>\n",
       "    .dataframe tbody tr th:only-of-type {\n",
       "        vertical-align: middle;\n",
       "    }\n",
       "\n",
       "    .dataframe tbody tr th {\n",
       "        vertical-align: top;\n",
       "    }\n",
       "\n",
       "    .dataframe thead th {\n",
       "        text-align: right;\n",
       "    }\n",
       "</style>\n",
       "<table border=\"1\" class=\"dataframe\">\n",
       "  <thead>\n",
       "    <tr style=\"text-align: right;\">\n",
       "      <th></th>\n",
       "      <th>num_workers</th>\n",
       "      <th>num_successful</th>\n",
       "    </tr>\n",
       "  </thead>\n",
       "  <tbody>\n",
       "    <tr>\n",
       "      <th>0</th>\n",
       "      <td>0</td>\n",
       "      <td>0</td>\n",
       "    </tr>\n",
       "    <tr>\n",
       "      <th>1</th>\n",
       "      <td>1</td>\n",
       "      <td>104</td>\n",
       "    </tr>\n",
       "    <tr>\n",
       "      <th>2</th>\n",
       "      <td>2</td>\n",
       "      <td>208</td>\n",
       "    </tr>\n",
       "    <tr>\n",
       "      <th>3</th>\n",
       "      <td>3</td>\n",
       "      <td>312</td>\n",
       "    </tr>\n",
       "    <tr>\n",
       "      <th>4</th>\n",
       "      <td>4</td>\n",
       "      <td>416</td>\n",
       "    </tr>\n",
       "  </tbody>\n",
       "</table>\n",
       "</div>"
      ],
      "text/plain": [
       "   num_workers  num_successful\n",
       "0            0               0\n",
       "1            1             104\n",
       "2            2             208\n",
       "3            3             312\n",
       "4            4             416"
      ]
     },
     "execution_count": 6,
     "metadata": {},
     "output_type": "execute_result"
    }
   ],
   "source": [
    "res.head()"
   ]
  },
  {
   "cell_type": "code",
   "execution_count": 7,
   "metadata": {},
   "outputs": [
    {
     "data": {
      "image/png": "[encoded data removed]",
      "text/plain": [
       "<Figure size 432x288 with 1 Axes>"
      ]
     },
     "metadata": {
      "needs_background": "light"
     },
     "output_type": "display_data"
    }
   ],
   "source": [
    "sns.lineplot(data=res, x=\"num_workers\", y=\"num_successful\");"
   ]
  },
  {
   "cell_type": "markdown",
   "metadata": {},
   "source": [
    "Under the current constraints, 25 workers will be able to handle all calls."
   ]
  }
 ],
 "metadata": {
  "kernelspec": {
   "display_name": "Python 3",
   "language": "python",
   "name": "python3"
  },
  "language_info": {
   "codemirror_mode": {
    "name": "ipython",
    "version": 3
   },
   "file_extension": ".py",
   "mimetype": "text/x-python",
   "name": "python",
   "nbconvert_exporter": "python",
   "pygments_lexer": "ipython3",
   "version": "3.6.6"
  }
 },
 "nbformat": 4,
 "nbformat_minor": 2
}
